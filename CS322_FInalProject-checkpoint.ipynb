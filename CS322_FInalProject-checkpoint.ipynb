{
 "cells": [
  {
   "cell_type": "markdown",
   "id": "5ce20027",
   "metadata": {},
   "source": [
    "## Project : Tesla's Stock Price Prediction\n",
    "\n",
    "### Table of contents\n",
    "<ul>\n",
    "    <li><a href = #intro>1.Introduction</a></li>\n",
    "    <li><a href = #preprocess>2.Data Wrangling<a/></li>\n",
    "    <li><a href = #eda>3.Exploratory Data Analysis(EDA)</a></li>\n",
    "    <li><a href = #conclusions>4.Conclusions</a></li>\n",
    "</ul>"
   ]
  },
  {
   "cell_type": "markdown",
   "id": "97f0cbe6",
   "metadata": {},
   "source": [
    "### Team Members:\n",
    "<ul>\n",
    "    <li>Hatem Hazem Mohamed 19104895</li>\n",
    "    <li>Ammar Mahmoud Hamed 19105685</li>\n",
    "    <li>Ahmed Mohamed Hashem 19105073</li>\n",
    "    <li>Seif El-Din Mohamed Hashem 19105145\n",
    "    <li>Haneen Ahmed Ezzat 19106010\n",
    "    <li>Farah Atef 19100916</li>\n",
    "</ul>    "
   ]
  },
  {
   "cell_type": "markdown",
   "id": "d5d00780",
   "metadata": {},
   "source": [
    "# 1. Introduction\n",
    "### Overview\n",
    "#### The dataset we obtained from Kaggle contains Tesla's stock price from initial public offering 06/29/2010 to 03/17/2017. \n",
    "#### Questions:\n",
    "<ul>\n",
    "    <li><a href = #q1>1. What was the change in price of the stock overtime?</a></li>\n",
    "    <li><a href = #q2>2. What was the moving average of the various stocks?</a></li>\n",
    "    <li><a href = #q3>3. What was the daily return of the stock on average?</a></li>\n",
    "    <li><a href = #q4>4. What was the correlation between highest and lowest price reached in the day?</a></li>\n",
    "    <li><a href = #q4>5. What was the correlation between price of stock at open market and close market ?</a></li>\n",
    "    <li><a href = #q6>6. Predicting the closing price</a></li>\n",
    "</ul>"
   ]
  },
  {
   "cell_type": "code",
   "execution_count": 1,
   "id": "393889d5",
   "metadata": {
    "collapsed": true
   },
   "outputs": [
    {
     "name": "stdout",
     "output_type": "stream",
     "text": [
      "Requirement already satisfied: tensorflow in /home/ammar/anaconda3/lib/python3.8/site-packages (2.7.0)\n",
      "Requirement already satisfied: numpy>=1.14.5 in /home/ammar/.local/lib/python3.8/site-packages (from tensorflow) (1.20.2)\n",
      "Requirement already satisfied: six>=1.12.0 in /home/ammar/anaconda3/lib/python3.8/site-packages (from tensorflow) (1.16.0)\n",
      "Requirement already satisfied: google-pasta>=0.1.1 in /home/ammar/anaconda3/lib/python3.8/site-packages (from tensorflow) (0.2.0)\n",
      "Requirement already satisfied: keras<2.8,>=2.7.0rc0 in /home/ammar/anaconda3/lib/python3.8/site-packages (from tensorflow) (2.7.0)\n",
      "Requirement already satisfied: wrapt>=1.11.0 in /home/ammar/anaconda3/lib/python3.8/site-packages (from tensorflow) (1.12.1)\n",
      "Requirement already satisfied: protobuf>=3.9.2 in /home/ammar/anaconda3/lib/python3.8/site-packages (from tensorflow) (3.19.1)\n",
      "Requirement already satisfied: libclang>=9.0.1 in /home/ammar/anaconda3/lib/python3.8/site-packages (from tensorflow) (12.0.0)\n",
      "Requirement already satisfied: tensorflow-estimator<2.8,~=2.7.0rc0 in /home/ammar/anaconda3/lib/python3.8/site-packages (from tensorflow) (2.7.0)\n",
      "Requirement already satisfied: tensorflow-io-gcs-filesystem>=0.21.0 in /home/ammar/anaconda3/lib/python3.8/site-packages (from tensorflow) (0.23.1)\n",
      "Requirement already satisfied: grpcio<2.0,>=1.24.3 in /home/ammar/anaconda3/lib/python3.8/site-packages (from tensorflow) (1.43.0)\n",
      "Requirement already satisfied: opt-einsum>=2.3.2 in /home/ammar/anaconda3/lib/python3.8/site-packages (from tensorflow) (3.3.0)\n",
      "Requirement already satisfied: gast<0.5.0,>=0.2.1 in /home/ammar/anaconda3/lib/python3.8/site-packages (from tensorflow) (0.4.0)\n",
      "Requirement already satisfied: h5py>=2.9.0 in /home/ammar/anaconda3/lib/python3.8/site-packages (from tensorflow) (2.10.0)\n",
      "Requirement already satisfied: flatbuffers<3.0,>=1.12 in /home/ammar/anaconda3/lib/python3.8/site-packages (from tensorflow) (2.0)\n",
      "Requirement already satisfied: keras-preprocessing>=1.1.1 in /home/ammar/anaconda3/lib/python3.8/site-packages (from tensorflow) (1.1.2)\n",
      "Requirement already satisfied: termcolor>=1.1.0 in /home/ammar/anaconda3/lib/python3.8/site-packages (from tensorflow) (1.1.0)\n",
      "Requirement already satisfied: wheel<1.0,>=0.32.0 in /home/ammar/anaconda3/lib/python3.8/site-packages (from tensorflow) (0.37.0)\n",
      "Requirement already satisfied: typing-extensions>=3.6.6 in /home/ammar/anaconda3/lib/python3.8/site-packages (from tensorflow) (3.10.0.2)\n",
      "Requirement already satisfied: tensorboard~=2.6 in /home/ammar/anaconda3/lib/python3.8/site-packages (from tensorflow) (2.7.0)\n",
      "Requirement already satisfied: absl-py>=0.4.0 in /home/ammar/anaconda3/lib/python3.8/site-packages (from tensorflow) (1.0.0)\n",
      "Requirement already satisfied: astunparse>=1.6.0 in /home/ammar/anaconda3/lib/python3.8/site-packages (from tensorflow) (1.6.3)\n",
      "Requirement already satisfied: markdown>=2.6.8 in /home/ammar/anaconda3/lib/python3.8/site-packages (from tensorboard~=2.6->tensorflow) (3.3.6)\n",
      "Requirement already satisfied: tensorboard-plugin-wit>=1.6.0 in /home/ammar/anaconda3/lib/python3.8/site-packages (from tensorboard~=2.6->tensorflow) (1.8.1)\n",
      "Requirement already satisfied: google-auth-oauthlib<0.5,>=0.4.1 in /home/ammar/anaconda3/lib/python3.8/site-packages (from tensorboard~=2.6->tensorflow) (0.4.6)\n",
      "Requirement already satisfied: requests<3,>=2.21.0 in /home/ammar/anaconda3/lib/python3.8/site-packages (from tensorboard~=2.6->tensorflow) (2.26.0)\n",
      "Requirement already satisfied: tensorboard-data-server<0.7.0,>=0.6.0 in /home/ammar/anaconda3/lib/python3.8/site-packages (from tensorboard~=2.6->tensorflow) (0.6.1)\n",
      "Requirement already satisfied: werkzeug>=0.11.15 in /home/ammar/anaconda3/lib/python3.8/site-packages (from tensorboard~=2.6->tensorflow) (2.0.1)\n",
      "Requirement already satisfied: setuptools>=41.0.0 in /home/ammar/anaconda3/lib/python3.8/site-packages (from tensorboard~=2.6->tensorflow) (58.0.4)\n",
      "Requirement already satisfied: google-auth<3,>=1.6.3 in /home/ammar/anaconda3/lib/python3.8/site-packages (from tensorboard~=2.6->tensorflow) (2.3.3)\n",
      "Requirement already satisfied: pyasn1-modules>=0.2.1 in /home/ammar/anaconda3/lib/python3.8/site-packages (from google-auth<3,>=1.6.3->tensorboard~=2.6->tensorflow) (0.2.8)\n",
      "Requirement already satisfied: cachetools<5.0,>=2.0.0 in /home/ammar/anaconda3/lib/python3.8/site-packages (from google-auth<3,>=1.6.3->tensorboard~=2.6->tensorflow) (4.2.4)\n",
      "Requirement already satisfied: rsa<5,>=3.1.4 in /home/ammar/anaconda3/lib/python3.8/site-packages (from google-auth<3,>=1.6.3->tensorboard~=2.6->tensorflow) (4.8)\n",
      "Requirement already satisfied: requests-oauthlib>=0.7.0 in /home/ammar/anaconda3/lib/python3.8/site-packages (from google-auth-oauthlib<0.5,>=0.4.1->tensorboard~=2.6->tensorflow) (1.3.0)\n",
      "Requirement already satisfied: importlib-metadata>=4.4 in /home/ammar/anaconda3/lib/python3.8/site-packages (from markdown>=2.6.8->tensorboard~=2.6->tensorflow) (4.8.1)\n",
      "Requirement already satisfied: zipp>=0.5 in /home/ammar/anaconda3/lib/python3.8/site-packages (from importlib-metadata>=4.4->markdown>=2.6.8->tensorboard~=2.6->tensorflow) (3.5.0)\n",
      "Requirement already satisfied: pyasn1<0.5.0,>=0.4.6 in /home/ammar/anaconda3/lib/python3.8/site-packages (from pyasn1-modules>=0.2.1->google-auth<3,>=1.6.3->tensorboard~=2.6->tensorflow) (0.4.8)\n",
      "Requirement already satisfied: certifi>=2017.4.17 in /home/ammar/anaconda3/lib/python3.8/site-packages (from requests<3,>=2.21.0->tensorboard~=2.6->tensorflow) (2021.5.30)\n",
      "Requirement already satisfied: idna<4,>=2.5 in /home/ammar/anaconda3/lib/python3.8/site-packages (from requests<3,>=2.21.0->tensorboard~=2.6->tensorflow) (3.2)\n",
      "Requirement already satisfied: charset-normalizer~=2.0.0 in /home/ammar/anaconda3/lib/python3.8/site-packages (from requests<3,>=2.21.0->tensorboard~=2.6->tensorflow) (2.0.4)\n",
      "Requirement already satisfied: urllib3<1.27,>=1.21.1 in /home/ammar/anaconda3/lib/python3.8/site-packages (from requests<3,>=2.21.0->tensorboard~=2.6->tensorflow) (1.26.6)\n",
      "Requirement already satisfied: oauthlib>=3.0.0 in /home/ammar/anaconda3/lib/python3.8/site-packages (from requests-oauthlib>=0.7.0->google-auth-oauthlib<0.5,>=0.4.1->tensorboard~=2.6->tensorflow) (3.1.1)\n"
     ]
    }
   ],
   "source": [
    "!pip install tensorflow"
   ]
  },
  {
   "cell_type": "code",
   "execution_count": 2,
   "id": "c6c7339e",
   "metadata": {},
   "outputs": [],
   "source": [
    "# Importing neccessary libraries\n",
    "import pandas as pd\n",
    "import numpy as np\n",
    "from datetime import datetime\n",
    "import matplotlib.pyplot as plt\n",
    "import seaborn as sb\n",
    "from sklearn.preprocessing import MinMaxScaler\n",
    "from keras.models import Sequential, load_model\n",
    "from keras.layers import LSTM, Dense, Dropout\n",
    "%matplotlib inline"
   ]
  },
  {
   "cell_type": "markdown",
   "id": "94b2dd96",
   "metadata": {},
   "source": [
    "# <a id='wrangling'></a>\n",
    "# 2. Data Wrangling\n",
    "\n",
    "In this section of the report, I will load in the data, check for cleanliness, and then trim and clean the dataset for analysis."
   ]
  },
  {
   "cell_type": "markdown",
   "id": "d351171d",
   "metadata": {},
   "source": [
    "### 2.1 Data Gathering"
   ]
  },
  {
   "cell_type": "code",
   "execution_count": 3,
   "id": "17e1234f",
   "metadata": {},
   "outputs": [
    {
     "data": {
      "text/html": [
       "<div>\n",
       "<style scoped>\n",
       "    .dataframe tbody tr th:only-of-type {\n",
       "        vertical-align: middle;\n",
       "    }\n",
       "\n",
       "    .dataframe tbody tr th {\n",
       "        vertical-align: top;\n",
       "    }\n",
       "\n",
       "    .dataframe thead th {\n",
       "        text-align: right;\n",
       "    }\n",
       "</style>\n",
       "<table border=\"1\" class=\"dataframe\">\n",
       "  <thead>\n",
       "    <tr style=\"text-align: right;\">\n",
       "      <th></th>\n",
       "      <th>Date</th>\n",
       "      <th>Open</th>\n",
       "      <th>High</th>\n",
       "      <th>Low</th>\n",
       "      <th>Close</th>\n",
       "      <th>Volume</th>\n",
       "      <th>Adj Close</th>\n",
       "    </tr>\n",
       "  </thead>\n",
       "  <tbody>\n",
       "    <tr>\n",
       "      <th>272</th>\n",
       "      <td>7/27/2011</td>\n",
       "      <td>28.500000</td>\n",
       "      <td>28.500000</td>\n",
       "      <td>27.510000</td>\n",
       "      <td>27.639999</td>\n",
       "      <td>958500</td>\n",
       "      <td>27.639999</td>\n",
       "    </tr>\n",
       "    <tr>\n",
       "      <th>1164</th>\n",
       "      <td>2/12/2015</td>\n",
       "      <td>193.570007</td>\n",
       "      <td>203.089996</td>\n",
       "      <td>193.279999</td>\n",
       "      <td>202.880005</td>\n",
       "      <td>15649600</td>\n",
       "      <td>202.880005</td>\n",
       "    </tr>\n",
       "    <tr>\n",
       "      <th>1647</th>\n",
       "      <td>1/12/2017</td>\n",
       "      <td>229.059998</td>\n",
       "      <td>230.699997</td>\n",
       "      <td>225.580002</td>\n",
       "      <td>229.589996</td>\n",
       "      <td>3790200</td>\n",
       "      <td>229.589996</td>\n",
       "    </tr>\n",
       "    <tr>\n",
       "      <th>1106</th>\n",
       "      <td>11/18/2014</td>\n",
       "      <td>255.860001</td>\n",
       "      <td>259.989990</td>\n",
       "      <td>255.509995</td>\n",
       "      <td>257.700012</td>\n",
       "      <td>4473000</td>\n",
       "      <td>257.700012</td>\n",
       "    </tr>\n",
       "    <tr>\n",
       "      <th>415</th>\n",
       "      <td>2/21/2012</td>\n",
       "      <td>34.869999</td>\n",
       "      <td>34.869999</td>\n",
       "      <td>33.810001</td>\n",
       "      <td>34.500000</td>\n",
       "      <td>1135800</td>\n",
       "      <td>34.500000</td>\n",
       "    </tr>\n",
       "    <tr>\n",
       "      <th>1547</th>\n",
       "      <td>8/19/2016</td>\n",
       "      <td>223.539993</td>\n",
       "      <td>225.169998</td>\n",
       "      <td>222.529999</td>\n",
       "      <td>225.000000</td>\n",
       "      <td>1659500</td>\n",
       "      <td>225.000000</td>\n",
       "    </tr>\n",
       "    <tr>\n",
       "      <th>1</th>\n",
       "      <td>6/30/2010</td>\n",
       "      <td>25.790001</td>\n",
       "      <td>30.420000</td>\n",
       "      <td>23.299999</td>\n",
       "      <td>23.830000</td>\n",
       "      <td>17187100</td>\n",
       "      <td>23.830000</td>\n",
       "    </tr>\n",
       "    <tr>\n",
       "      <th>1413</th>\n",
       "      <td>2/9/2016</td>\n",
       "      <td>142.320007</td>\n",
       "      <td>159.789993</td>\n",
       "      <td>141.050003</td>\n",
       "      <td>148.250000</td>\n",
       "      <td>8651600</td>\n",
       "      <td>148.250000</td>\n",
       "    </tr>\n",
       "    <tr>\n",
       "      <th>1153</th>\n",
       "      <td>1/28/2015</td>\n",
       "      <td>206.110001</td>\n",
       "      <td>206.369995</td>\n",
       "      <td>198.419998</td>\n",
       "      <td>199.369995</td>\n",
       "      <td>3149600</td>\n",
       "      <td>199.369995</td>\n",
       "    </tr>\n",
       "    <tr>\n",
       "      <th>303</th>\n",
       "      <td>9/9/2011</td>\n",
       "      <td>23.370001</td>\n",
       "      <td>23.570000</td>\n",
       "      <td>22.549999</td>\n",
       "      <td>22.969999</td>\n",
       "      <td>669300</td>\n",
       "      <td>22.969999</td>\n",
       "    </tr>\n",
       "  </tbody>\n",
       "</table>\n",
       "</div>"
      ],
      "text/plain": [
       "            Date        Open        High         Low       Close    Volume  \\\n",
       "272    7/27/2011   28.500000   28.500000   27.510000   27.639999    958500   \n",
       "1164   2/12/2015  193.570007  203.089996  193.279999  202.880005  15649600   \n",
       "1647   1/12/2017  229.059998  230.699997  225.580002  229.589996   3790200   \n",
       "1106  11/18/2014  255.860001  259.989990  255.509995  257.700012   4473000   \n",
       "415    2/21/2012   34.869999   34.869999   33.810001   34.500000   1135800   \n",
       "1547   8/19/2016  223.539993  225.169998  222.529999  225.000000   1659500   \n",
       "1      6/30/2010   25.790001   30.420000   23.299999   23.830000  17187100   \n",
       "1413    2/9/2016  142.320007  159.789993  141.050003  148.250000   8651600   \n",
       "1153   1/28/2015  206.110001  206.369995  198.419998  199.369995   3149600   \n",
       "303     9/9/2011   23.370001   23.570000   22.549999   22.969999    669300   \n",
       "\n",
       "       Adj Close  \n",
       "272    27.639999  \n",
       "1164  202.880005  \n",
       "1647  229.589996  \n",
       "1106  257.700012  \n",
       "415    34.500000  \n",
       "1547  225.000000  \n",
       "1      23.830000  \n",
       "1413  148.250000  \n",
       "1153  199.369995  \n",
       "303    22.969999  "
      ]
     },
     "execution_count": 3,
     "metadata": {},
     "output_type": "execute_result"
    }
   ],
   "source": [
    "# Read dataset using pandas\n",
    "df = pd.read_csv('Tesla.csv')\n",
    "df.sample(10)"
   ]
  },
  {
   "cell_type": "code",
   "execution_count": 4,
   "id": "67d08736",
   "metadata": {},
   "outputs": [
    {
     "data": {
      "text/plain": [
       "0      2010-06-29\n",
       "1      2010-06-30\n",
       "2      2010-07-01\n",
       "3      2010-07-02\n",
       "4      2010-07-06\n",
       "          ...    \n",
       "1687   2017-03-13\n",
       "1688   2017-03-14\n",
       "1689   2017-03-15\n",
       "1690   2017-03-16\n",
       "1691   2017-03-17\n",
       "Name: Date, Length: 1692, dtype: datetime64[ns]"
      ]
     },
     "execution_count": 4,
     "metadata": {},
     "output_type": "execute_result"
    }
   ],
   "source": [
    "df.Date = pd.to_datetime(df.Date)\n",
    "df.Date"
   ]
  },
  {
   "cell_type": "markdown",
   "id": "9efe6e76",
   "metadata": {},
   "source": [
    "# 3. Exploratory data analysis (EDA)"
   ]
  },
  {
   "cell_type": "markdown",
   "id": "17c888f4",
   "metadata": {},
   "source": [
    "### Q1 - What was the change in price of the stock overtime?"
   ]
  },
  {
   "cell_type": "code",
   "execution_count": 5,
   "id": "4d3194f8",
   "metadata": {},
   "outputs": [],
   "source": [
    "#year\n",
    "df[\"year\"]=df.Date.dt.year\n"
   ]
  },
  {
   "cell_type": "code",
   "execution_count": 6,
   "id": "57e73fac",
   "metadata": {},
   "outputs": [],
   "source": [
    "df[\"month\"]= df.Date.dt.month"
   ]
  },
  {
   "cell_type": "code",
   "execution_count": 7,
   "id": "e25ee540",
   "metadata": {},
   "outputs": [],
   "source": [
    "df[\"day\"]=df.Date.dt.day"
   ]
  },
  {
   "cell_type": "code",
   "execution_count": 8,
   "id": "05067ee7",
   "metadata": {},
   "outputs": [
    {
     "data": {
      "text/html": [
       "<div>\n",
       "<style scoped>\n",
       "    .dataframe tbody tr th:only-of-type {\n",
       "        vertical-align: middle;\n",
       "    }\n",
       "\n",
       "    .dataframe tbody tr th {\n",
       "        vertical-align: top;\n",
       "    }\n",
       "\n",
       "    .dataframe thead th {\n",
       "        text-align: right;\n",
       "    }\n",
       "</style>\n",
       "<table border=\"1\" class=\"dataframe\">\n",
       "  <thead>\n",
       "    <tr style=\"text-align: right;\">\n",
       "      <th></th>\n",
       "      <th>Date</th>\n",
       "      <th>Open</th>\n",
       "      <th>High</th>\n",
       "      <th>Low</th>\n",
       "      <th>Close</th>\n",
       "      <th>Volume</th>\n",
       "      <th>Adj Close</th>\n",
       "      <th>year</th>\n",
       "      <th>month</th>\n",
       "      <th>day</th>\n",
       "    </tr>\n",
       "  </thead>\n",
       "  <tbody>\n",
       "    <tr>\n",
       "      <th>0</th>\n",
       "      <td>2010-06-29</td>\n",
       "      <td>19.000000</td>\n",
       "      <td>25.000000</td>\n",
       "      <td>17.540001</td>\n",
       "      <td>23.889999</td>\n",
       "      <td>18766300</td>\n",
       "      <td>23.889999</td>\n",
       "      <td>2010</td>\n",
       "      <td>6</td>\n",
       "      <td>29</td>\n",
       "    </tr>\n",
       "    <tr>\n",
       "      <th>1</th>\n",
       "      <td>2010-06-30</td>\n",
       "      <td>25.790001</td>\n",
       "      <td>30.420000</td>\n",
       "      <td>23.299999</td>\n",
       "      <td>23.830000</td>\n",
       "      <td>17187100</td>\n",
       "      <td>23.830000</td>\n",
       "      <td>2010</td>\n",
       "      <td>6</td>\n",
       "      <td>30</td>\n",
       "    </tr>\n",
       "    <tr>\n",
       "      <th>2</th>\n",
       "      <td>2010-07-01</td>\n",
       "      <td>25.000000</td>\n",
       "      <td>25.920000</td>\n",
       "      <td>20.270000</td>\n",
       "      <td>21.959999</td>\n",
       "      <td>8218800</td>\n",
       "      <td>21.959999</td>\n",
       "      <td>2010</td>\n",
       "      <td>7</td>\n",
       "      <td>1</td>\n",
       "    </tr>\n",
       "    <tr>\n",
       "      <th>3</th>\n",
       "      <td>2010-07-02</td>\n",
       "      <td>23.000000</td>\n",
       "      <td>23.100000</td>\n",
       "      <td>18.709999</td>\n",
       "      <td>19.200001</td>\n",
       "      <td>5139800</td>\n",
       "      <td>19.200001</td>\n",
       "      <td>2010</td>\n",
       "      <td>7</td>\n",
       "      <td>2</td>\n",
       "    </tr>\n",
       "    <tr>\n",
       "      <th>4</th>\n",
       "      <td>2010-07-06</td>\n",
       "      <td>20.000000</td>\n",
       "      <td>20.000000</td>\n",
       "      <td>15.830000</td>\n",
       "      <td>16.110001</td>\n",
       "      <td>6866900</td>\n",
       "      <td>16.110001</td>\n",
       "      <td>2010</td>\n",
       "      <td>7</td>\n",
       "      <td>6</td>\n",
       "    </tr>\n",
       "    <tr>\n",
       "      <th>...</th>\n",
       "      <td>...</td>\n",
       "      <td>...</td>\n",
       "      <td>...</td>\n",
       "      <td>...</td>\n",
       "      <td>...</td>\n",
       "      <td>...</td>\n",
       "      <td>...</td>\n",
       "      <td>...</td>\n",
       "      <td>...</td>\n",
       "      <td>...</td>\n",
       "    </tr>\n",
       "    <tr>\n",
       "      <th>1687</th>\n",
       "      <td>2017-03-13</td>\n",
       "      <td>244.820007</td>\n",
       "      <td>246.850006</td>\n",
       "      <td>242.779999</td>\n",
       "      <td>246.169998</td>\n",
       "      <td>3010700</td>\n",
       "      <td>246.169998</td>\n",
       "      <td>2017</td>\n",
       "      <td>3</td>\n",
       "      <td>13</td>\n",
       "    </tr>\n",
       "    <tr>\n",
       "      <th>1688</th>\n",
       "      <td>2017-03-14</td>\n",
       "      <td>246.110001</td>\n",
       "      <td>258.119995</td>\n",
       "      <td>246.020004</td>\n",
       "      <td>258.000000</td>\n",
       "      <td>7575500</td>\n",
       "      <td>258.000000</td>\n",
       "      <td>2017</td>\n",
       "      <td>3</td>\n",
       "      <td>14</td>\n",
       "    </tr>\n",
       "    <tr>\n",
       "      <th>1689</th>\n",
       "      <td>2017-03-15</td>\n",
       "      <td>257.000000</td>\n",
       "      <td>261.000000</td>\n",
       "      <td>254.270004</td>\n",
       "      <td>255.729996</td>\n",
       "      <td>4816600</td>\n",
       "      <td>255.729996</td>\n",
       "      <td>2017</td>\n",
       "      <td>3</td>\n",
       "      <td>15</td>\n",
       "    </tr>\n",
       "    <tr>\n",
       "      <th>1690</th>\n",
       "      <td>2017-03-16</td>\n",
       "      <td>262.399994</td>\n",
       "      <td>265.750000</td>\n",
       "      <td>259.059998</td>\n",
       "      <td>262.049988</td>\n",
       "      <td>7100400</td>\n",
       "      <td>262.049988</td>\n",
       "      <td>2017</td>\n",
       "      <td>3</td>\n",
       "      <td>16</td>\n",
       "    </tr>\n",
       "    <tr>\n",
       "      <th>1691</th>\n",
       "      <td>2017-03-17</td>\n",
       "      <td>264.000000</td>\n",
       "      <td>265.329987</td>\n",
       "      <td>261.200012</td>\n",
       "      <td>261.500000</td>\n",
       "      <td>6475900</td>\n",
       "      <td>261.500000</td>\n",
       "      <td>2017</td>\n",
       "      <td>3</td>\n",
       "      <td>17</td>\n",
       "    </tr>\n",
       "  </tbody>\n",
       "</table>\n",
       "<p>1692 rows × 10 columns</p>\n",
       "</div>"
      ],
      "text/plain": [
       "           Date        Open        High         Low       Close    Volume  \\\n",
       "0    2010-06-29   19.000000   25.000000   17.540001   23.889999  18766300   \n",
       "1    2010-06-30   25.790001   30.420000   23.299999   23.830000  17187100   \n",
       "2    2010-07-01   25.000000   25.920000   20.270000   21.959999   8218800   \n",
       "3    2010-07-02   23.000000   23.100000   18.709999   19.200001   5139800   \n",
       "4    2010-07-06   20.000000   20.000000   15.830000   16.110001   6866900   \n",
       "...         ...         ...         ...         ...         ...       ...   \n",
       "1687 2017-03-13  244.820007  246.850006  242.779999  246.169998   3010700   \n",
       "1688 2017-03-14  246.110001  258.119995  246.020004  258.000000   7575500   \n",
       "1689 2017-03-15  257.000000  261.000000  254.270004  255.729996   4816600   \n",
       "1690 2017-03-16  262.399994  265.750000  259.059998  262.049988   7100400   \n",
       "1691 2017-03-17  264.000000  265.329987  261.200012  261.500000   6475900   \n",
       "\n",
       "       Adj Close  year  month  day  \n",
       "0      23.889999  2010      6   29  \n",
       "1      23.830000  2010      6   30  \n",
       "2      21.959999  2010      7    1  \n",
       "3      19.200001  2010      7    2  \n",
       "4      16.110001  2010      7    6  \n",
       "...          ...   ...    ...  ...  \n",
       "1687  246.169998  2017      3   13  \n",
       "1688  258.000000  2017      3   14  \n",
       "1689  255.729996  2017      3   15  \n",
       "1690  262.049988  2017      3   16  \n",
       "1691  261.500000  2017      3   17  \n",
       "\n",
       "[1692 rows x 10 columns]"
      ]
     },
     "execution_count": 8,
     "metadata": {},
     "output_type": "execute_result"
    }
   ],
   "source": [
    "df"
   ]
  },
  {
   "cell_type": "markdown",
   "id": "03eb66ff",
   "metadata": {},
   "source": [
    "### 2.2 Data Assessment"
   ]
  },
  {
   "cell_type": "code",
   "execution_count": 9,
   "id": "c94fc1c5",
   "metadata": {},
   "outputs": [
    {
     "name": "stdout",
     "output_type": "stream",
     "text": [
      "<class 'pandas.core.frame.DataFrame'>\n",
      "RangeIndex: 1692 entries, 0 to 1691\n",
      "Data columns (total 10 columns):\n",
      " #   Column     Non-Null Count  Dtype         \n",
      "---  ------     --------------  -----         \n",
      " 0   Date       1692 non-null   datetime64[ns]\n",
      " 1   Open       1692 non-null   float64       \n",
      " 2   High       1692 non-null   float64       \n",
      " 3   Low        1692 non-null   float64       \n",
      " 4   Close      1692 non-null   float64       \n",
      " 5   Volume     1692 non-null   int64         \n",
      " 6   Adj Close  1692 non-null   float64       \n",
      " 7   year       1692 non-null   int64         \n",
      " 8   month      1692 non-null   int64         \n",
      " 9   day        1692 non-null   int64         \n",
      "dtypes: datetime64[ns](1), float64(5), int64(4)\n",
      "memory usage: 132.3 KB\n"
     ]
    }
   ],
   "source": [
    "# Display a summary of the dataframe\n",
    "df.info()"
   ]
  },
  {
   "cell_type": "code",
   "execution_count": 10,
   "id": "9c8450bb",
   "metadata": {},
   "outputs": [
    {
     "data": {
      "text/html": [
       "<div>\n",
       "<style scoped>\n",
       "    .dataframe tbody tr th:only-of-type {\n",
       "        vertical-align: middle;\n",
       "    }\n",
       "\n",
       "    .dataframe tbody tr th {\n",
       "        vertical-align: top;\n",
       "    }\n",
       "\n",
       "    .dataframe thead th {\n",
       "        text-align: right;\n",
       "    }\n",
       "</style>\n",
       "<table border=\"1\" class=\"dataframe\">\n",
       "  <thead>\n",
       "    <tr style=\"text-align: right;\">\n",
       "      <th></th>\n",
       "      <th>Date</th>\n",
       "      <th>Open</th>\n",
       "      <th>High</th>\n",
       "      <th>Low</th>\n",
       "      <th>Close</th>\n",
       "      <th>Volume</th>\n",
       "      <th>Adj Close</th>\n",
       "      <th>year</th>\n",
       "      <th>month</th>\n",
       "      <th>day</th>\n",
       "    </tr>\n",
       "  </thead>\n",
       "  <tbody>\n",
       "    <tr>\n",
       "      <th>0</th>\n",
       "      <td>2010-06-29</td>\n",
       "      <td>19.000000</td>\n",
       "      <td>25.000000</td>\n",
       "      <td>17.540001</td>\n",
       "      <td>23.889999</td>\n",
       "      <td>18766300</td>\n",
       "      <td>23.889999</td>\n",
       "      <td>2010</td>\n",
       "      <td>6</td>\n",
       "      <td>29</td>\n",
       "    </tr>\n",
       "    <tr>\n",
       "      <th>1</th>\n",
       "      <td>2010-06-30</td>\n",
       "      <td>25.790001</td>\n",
       "      <td>30.420000</td>\n",
       "      <td>23.299999</td>\n",
       "      <td>23.830000</td>\n",
       "      <td>17187100</td>\n",
       "      <td>23.830000</td>\n",
       "      <td>2010</td>\n",
       "      <td>6</td>\n",
       "      <td>30</td>\n",
       "    </tr>\n",
       "    <tr>\n",
       "      <th>2</th>\n",
       "      <td>2010-07-01</td>\n",
       "      <td>25.000000</td>\n",
       "      <td>25.920000</td>\n",
       "      <td>20.270000</td>\n",
       "      <td>21.959999</td>\n",
       "      <td>8218800</td>\n",
       "      <td>21.959999</td>\n",
       "      <td>2010</td>\n",
       "      <td>7</td>\n",
       "      <td>1</td>\n",
       "    </tr>\n",
       "    <tr>\n",
       "      <th>3</th>\n",
       "      <td>2010-07-02</td>\n",
       "      <td>23.000000</td>\n",
       "      <td>23.100000</td>\n",
       "      <td>18.709999</td>\n",
       "      <td>19.200001</td>\n",
       "      <td>5139800</td>\n",
       "      <td>19.200001</td>\n",
       "      <td>2010</td>\n",
       "      <td>7</td>\n",
       "      <td>2</td>\n",
       "    </tr>\n",
       "    <tr>\n",
       "      <th>4</th>\n",
       "      <td>2010-07-06</td>\n",
       "      <td>20.000000</td>\n",
       "      <td>20.000000</td>\n",
       "      <td>15.830000</td>\n",
       "      <td>16.110001</td>\n",
       "      <td>6866900</td>\n",
       "      <td>16.110001</td>\n",
       "      <td>2010</td>\n",
       "      <td>7</td>\n",
       "      <td>6</td>\n",
       "    </tr>\n",
       "    <tr>\n",
       "      <th>...</th>\n",
       "      <td>...</td>\n",
       "      <td>...</td>\n",
       "      <td>...</td>\n",
       "      <td>...</td>\n",
       "      <td>...</td>\n",
       "      <td>...</td>\n",
       "      <td>...</td>\n",
       "      <td>...</td>\n",
       "      <td>...</td>\n",
       "      <td>...</td>\n",
       "    </tr>\n",
       "    <tr>\n",
       "      <th>1687</th>\n",
       "      <td>2017-03-13</td>\n",
       "      <td>244.820007</td>\n",
       "      <td>246.850006</td>\n",
       "      <td>242.779999</td>\n",
       "      <td>246.169998</td>\n",
       "      <td>3010700</td>\n",
       "      <td>246.169998</td>\n",
       "      <td>2017</td>\n",
       "      <td>3</td>\n",
       "      <td>13</td>\n",
       "    </tr>\n",
       "    <tr>\n",
       "      <th>1688</th>\n",
       "      <td>2017-03-14</td>\n",
       "      <td>246.110001</td>\n",
       "      <td>258.119995</td>\n",
       "      <td>246.020004</td>\n",
       "      <td>258.000000</td>\n",
       "      <td>7575500</td>\n",
       "      <td>258.000000</td>\n",
       "      <td>2017</td>\n",
       "      <td>3</td>\n",
       "      <td>14</td>\n",
       "    </tr>\n",
       "    <tr>\n",
       "      <th>1689</th>\n",
       "      <td>2017-03-15</td>\n",
       "      <td>257.000000</td>\n",
       "      <td>261.000000</td>\n",
       "      <td>254.270004</td>\n",
       "      <td>255.729996</td>\n",
       "      <td>4816600</td>\n",
       "      <td>255.729996</td>\n",
       "      <td>2017</td>\n",
       "      <td>3</td>\n",
       "      <td>15</td>\n",
       "    </tr>\n",
       "    <tr>\n",
       "      <th>1690</th>\n",
       "      <td>2017-03-16</td>\n",
       "      <td>262.399994</td>\n",
       "      <td>265.750000</td>\n",
       "      <td>259.059998</td>\n",
       "      <td>262.049988</td>\n",
       "      <td>7100400</td>\n",
       "      <td>262.049988</td>\n",
       "      <td>2017</td>\n",
       "      <td>3</td>\n",
       "      <td>16</td>\n",
       "    </tr>\n",
       "    <tr>\n",
       "      <th>1691</th>\n",
       "      <td>2017-03-17</td>\n",
       "      <td>264.000000</td>\n",
       "      <td>265.329987</td>\n",
       "      <td>261.200012</td>\n",
       "      <td>261.500000</td>\n",
       "      <td>6475900</td>\n",
       "      <td>261.500000</td>\n",
       "      <td>2017</td>\n",
       "      <td>3</td>\n",
       "      <td>17</td>\n",
       "    </tr>\n",
       "  </tbody>\n",
       "</table>\n",
       "<p>1692 rows × 10 columns</p>\n",
       "</div>"
      ],
      "text/plain": [
       "           Date        Open        High         Low       Close    Volume  \\\n",
       "0    2010-06-29   19.000000   25.000000   17.540001   23.889999  18766300   \n",
       "1    2010-06-30   25.790001   30.420000   23.299999   23.830000  17187100   \n",
       "2    2010-07-01   25.000000   25.920000   20.270000   21.959999   8218800   \n",
       "3    2010-07-02   23.000000   23.100000   18.709999   19.200001   5139800   \n",
       "4    2010-07-06   20.000000   20.000000   15.830000   16.110001   6866900   \n",
       "...         ...         ...         ...         ...         ...       ...   \n",
       "1687 2017-03-13  244.820007  246.850006  242.779999  246.169998   3010700   \n",
       "1688 2017-03-14  246.110001  258.119995  246.020004  258.000000   7575500   \n",
       "1689 2017-03-15  257.000000  261.000000  254.270004  255.729996   4816600   \n",
       "1690 2017-03-16  262.399994  265.750000  259.059998  262.049988   7100400   \n",
       "1691 2017-03-17  264.000000  265.329987  261.200012  261.500000   6475900   \n",
       "\n",
       "       Adj Close  year  month  day  \n",
       "0      23.889999  2010      6   29  \n",
       "1      23.830000  2010      6   30  \n",
       "2      21.959999  2010      7    1  \n",
       "3      19.200001  2010      7    2  \n",
       "4      16.110001  2010      7    6  \n",
       "...          ...   ...    ...  ...  \n",
       "1687  246.169998  2017      3   13  \n",
       "1688  258.000000  2017      3   14  \n",
       "1689  255.729996  2017      3   15  \n",
       "1690  262.049988  2017      3   16  \n",
       "1691  261.500000  2017      3   17  \n",
       "\n",
       "[1692 rows x 10 columns]"
      ]
     },
     "execution_count": 10,
     "metadata": {},
     "output_type": "execute_result"
    }
   ],
   "source": [
    "df"
   ]
  },
  {
   "cell_type": "markdown",
   "id": "a48c5599",
   "metadata": {},
   "source": []
  },
  {
   "cell_type": "code",
   "execution_count": 11,
   "id": "6fd9f97a",
   "metadata": {},
   "outputs": [
    {
     "data": {
      "text/plain": [
       "2011    252\n",
       "2013    252\n",
       "2014    252\n",
       "2015    252\n",
       "2016    252\n",
       "2012    250\n",
       "2010    130\n",
       "2017     52\n",
       "Name: year, dtype: int64"
      ]
     },
     "execution_count": 11,
     "metadata": {},
     "output_type": "execute_result"
    }
   ],
   "source": [
    "df.year.value_counts()"
   ]
  },
  {
   "cell_type": "code",
   "execution_count": 12,
   "id": "41b92e85",
   "metadata": {},
   "outputs": [
    {
     "data": {
      "text/plain": [
       "132.44157213711588"
      ]
     },
     "execution_count": 12,
     "metadata": {},
     "output_type": "execute_result"
    }
   ],
   "source": [
    "df.Open.mean()"
   ]
  },
  {
   "cell_type": "code",
   "execution_count": 13,
   "id": "39274648",
   "metadata": {},
   "outputs": [
    {
     "data": {
      "text/plain": [
       "23.408000076923077"
      ]
     },
     "execution_count": 13,
     "metadata": {},
     "output_type": "execute_result"
    }
   ],
   "source": [
    "df2010=df.loc[df[\"year\"]==2010]\n",
    "df_open_2010=df[\"Open\"]\n",
    "average_2010=df2010.Open.mean()\n",
    "average_2010"
   ]
  },
  {
   "cell_type": "code",
   "execution_count": 14,
   "id": "fad98c26",
   "metadata": {},
   "outputs": [
    {
     "data": {
      "text/plain": [
       "26.821984218253963"
      ]
     },
     "execution_count": 14,
     "metadata": {},
     "output_type": "execute_result"
    }
   ],
   "source": [
    "df2011=df.loc[df[\"year\"]==2011]\n",
    "df_open_2011=df[\"Open\"]\n",
    "average_2011=df2011.Open.mean()\n",
    "average_2011"
   ]
  },
  {
   "cell_type": "code",
   "execution_count": 15,
   "id": "07e2d16a",
   "metadata": {},
   "outputs": [
    {
     "data": {
      "text/plain": [
       "31.203119900000004"
      ]
     },
     "execution_count": 15,
     "metadata": {},
     "output_type": "execute_result"
    }
   ],
   "source": [
    "df2012=df.loc[df[\"year\"]==2012]\n",
    "df_open_2012=df[\"Open\"]\n",
    "average_2012=df2012.Open.mean()\n",
    "average_2012"
   ]
  },
  {
   "cell_type": "code",
   "execution_count": 16,
   "id": "d3958fcd",
   "metadata": {},
   "outputs": [
    {
     "data": {
      "text/plain": [
       "104.4164284722222"
      ]
     },
     "execution_count": 16,
     "metadata": {},
     "output_type": "execute_result"
    }
   ],
   "source": [
    "df2013=df.loc[df[\"year\"]==2013]\n",
    "df_open_2013=df[\"Open\"]\n",
    "average_2013=df2013.Open.mean()\n",
    "average_2013"
   ]
  },
  {
   "cell_type": "code",
   "execution_count": 17,
   "id": "0071c4b6",
   "metadata": {},
   "outputs": [
    {
     "data": {
      "text/plain": [
       "223.41539696428583"
      ]
     },
     "execution_count": 17,
     "metadata": {},
     "output_type": "execute_result"
    }
   ],
   "source": [
    "df2014=df.loc[df[\"year\"]==2014]\n",
    "df_open_2014=df[\"Open\"]\n",
    "average_2014=df2014.Open.mean()\n",
    "average_2014"
   ]
  },
  {
   "cell_type": "code",
   "execution_count": 18,
   "id": "8f841762",
   "metadata": {},
   "outputs": [
    {
     "data": {
      "text/plain": [
       "229.83194436507935"
      ]
     },
     "execution_count": 18,
     "metadata": {},
     "output_type": "execute_result"
    }
   ],
   "source": [
    "df2015=df.loc[df[\"year\"]==2015]\n",
    "df_open_2015=df[\"Open\"]\n",
    "average_2015=df2015.Open.mean()\n",
    "average_2015"
   ]
  },
  {
   "cell_type": "code",
   "execution_count": 19,
   "id": "db6dad87",
   "metadata": {},
   "outputs": [
    {
     "data": {
      "text/plain": [
       "210.05845245238078"
      ]
     },
     "execution_count": 19,
     "metadata": {},
     "output_type": "execute_result"
    }
   ],
   "source": [
    "df2016=df.loc[df[\"year\"]==2016]\n",
    "df_open_2016=df[\"Open\"]\n",
    "average_2016=df2016.Open.mean()\n",
    "average_2016"
   ]
  },
  {
   "cell_type": "code",
   "execution_count": 20,
   "id": "ab78b095",
   "metadata": {},
   "outputs": [
    {
     "data": {
      "text/plain": [
       "250.42653923076915"
      ]
     },
     "execution_count": 20,
     "metadata": {},
     "output_type": "execute_result"
    }
   ],
   "source": [
    "df2017=df.loc[df[\"year\"]==2017]\n",
    "df_open_2017=df[\"Open\"]\n",
    "average_2017=df2017.Open.mean()\n",
    "average_2017"
   ]
  },
  {
   "cell_type": "code",
   "execution_count": 21,
   "id": "d1542455",
   "metadata": {},
   "outputs": [
    {
     "data": {
      "text/html": [
       "<div>\n",
       "<style scoped>\n",
       "    .dataframe tbody tr th:only-of-type {\n",
       "        vertical-align: middle;\n",
       "    }\n",
       "\n",
       "    .dataframe tbody tr th {\n",
       "        vertical-align: top;\n",
       "    }\n",
       "\n",
       "    .dataframe thead th {\n",
       "        text-align: right;\n",
       "    }\n",
       "</style>\n",
       "<table border=\"1\" class=\"dataframe\">\n",
       "  <thead>\n",
       "    <tr style=\"text-align: right;\">\n",
       "      <th></th>\n",
       "      <th>year</th>\n",
       "      <th>average</th>\n",
       "    </tr>\n",
       "  </thead>\n",
       "  <tbody>\n",
       "    <tr>\n",
       "      <th>0</th>\n",
       "      <td>2010</td>\n",
       "      <td>23.408000</td>\n",
       "    </tr>\n",
       "    <tr>\n",
       "      <th>1</th>\n",
       "      <td>2011</td>\n",
       "      <td>26.821984</td>\n",
       "    </tr>\n",
       "    <tr>\n",
       "      <th>2</th>\n",
       "      <td>2012</td>\n",
       "      <td>31.203120</td>\n",
       "    </tr>\n",
       "    <tr>\n",
       "      <th>3</th>\n",
       "      <td>2013</td>\n",
       "      <td>104.416428</td>\n",
       "    </tr>\n",
       "    <tr>\n",
       "      <th>4</th>\n",
       "      <td>2014</td>\n",
       "      <td>223.415397</td>\n",
       "    </tr>\n",
       "    <tr>\n",
       "      <th>5</th>\n",
       "      <td>2015</td>\n",
       "      <td>229.831944</td>\n",
       "    </tr>\n",
       "    <tr>\n",
       "      <th>6</th>\n",
       "      <td>2016</td>\n",
       "      <td>210.058452</td>\n",
       "    </tr>\n",
       "    <tr>\n",
       "      <th>7</th>\n",
       "      <td>2017</td>\n",
       "      <td>250.426539</td>\n",
       "    </tr>\n",
       "  </tbody>\n",
       "</table>\n",
       "</div>"
      ],
      "text/plain": [
       "   year     average\n",
       "0  2010   23.408000\n",
       "1  2011   26.821984\n",
       "2  2012   31.203120\n",
       "3  2013  104.416428\n",
       "4  2014  223.415397\n",
       "5  2015  229.831944\n",
       "6  2016  210.058452\n",
       "7  2017  250.426539"
      ]
     },
     "execution_count": 21,
     "metadata": {},
     "output_type": "execute_result"
    }
   ],
   "source": [
    "d={\"year\":[\"2010\",\"2011\",\"2012\",\"2013\",\"2014\",\"2015\",\"2016\",\"2017\"],\"average\":[average_2010,average_2011,average_2012,average_2013,average_2014,average_2015,average_2016,average_2017]}\n",
    "df1=pd.DataFrame(d)\n",
    "df1\n"
   ]
  },
  {
   "cell_type": "code",
   "execution_count": 22,
   "id": "b41fe46e",
   "metadata": {},
   "outputs": [
    {
     "data": {
      "image/png": "[encoded data removed]",
      "text/plain": [
       "<Figure size 648x576 with 1 Axes>"
      ]
     },
     "metadata": {
      "needs_background": "light"
     },
     "output_type": "display_data"
    }
   ],
   "source": [
    "df1= pd.DataFrame(df1, columns=[\"year\",\"average\"])\n",
    "df1.plot(x=\"year\", y=[\"average\"], kind=\"bar\", figsize=(9,8)) \n",
    "plt.show()"
   ]
  },
  {
   "cell_type": "markdown",
   "id": "d2b5d991",
   "metadata": {},
   "source": [
    "### Q2 - What was the moving average of the various stocks?"
   ]
  },
  {
   "cell_type": "code",
   "execution_count": 23,
   "id": "4e68b601",
   "metadata": {},
   "outputs": [
    {
     "data": {
      "text/plain": [
       "23.341846153846163"
      ]
     },
     "execution_count": 23,
     "metadata": {},
     "output_type": "execute_result"
    }
   ],
   "source": [
    "df2010=df.loc[df[\"year\"]==2010]\n",
    "df_open_2010=df[\"Open\"]\n",
    "average_2010=df2010['Adj Close'].mean()\n",
    "average_2010"
   ]
  },
  {
   "cell_type": "code",
   "execution_count": 24,
   "id": "3e063e9f",
   "metadata": {},
   "outputs": [
    {
     "data": {
      "text/plain": [
       "26.804761861111096"
      ]
     },
     "execution_count": 24,
     "metadata": {},
     "output_type": "execute_result"
    }
   ],
   "source": [
    "df2011=df.loc[df[\"year\"]==2011]\n",
    "df_open_2011=df[\"Open\"]\n",
    "average_2011=df2011['Adj Close'].mean()\n",
    "average_2011"
   ]
  },
  {
   "cell_type": "code",
   "execution_count": 25,
   "id": "0e1921e9",
   "metadata": {},
   "outputs": [
    {
     "data": {
      "text/plain": [
       "31.168600036000008"
      ]
     },
     "execution_count": 25,
     "metadata": {},
     "output_type": "execute_result"
    }
   ],
   "source": [
    "df2012=df.loc[df[\"year\"]==2012]\n",
    "df_open_2012=df[\"Open\"]\n",
    "average_2012=df2012['Adj Close'].mean()\n",
    "average_2012"
   ]
  },
  {
   "cell_type": "code",
   "execution_count": 26,
   "id": "67222034",
   "metadata": {},
   "outputs": [
    {
     "data": {
      "text/plain": [
       "104.4012297261905"
      ]
     },
     "execution_count": 26,
     "metadata": {},
     "output_type": "execute_result"
    }
   ],
   "source": [
    "df2013=df.loc[df[\"year\"]==2013]\n",
    "df_open_2013=df[\"Open\"]\n",
    "average_2013=df2013['Adj Close'].mean()\n",
    "average_2013"
   ]
  },
  {
   "cell_type": "code",
   "execution_count": 27,
   "id": "307feaab",
   "metadata": {},
   "outputs": [
    {
     "data": {
      "text/plain": [
       "223.32908756349218"
      ]
     },
     "execution_count": 27,
     "metadata": {},
     "output_type": "execute_result"
    }
   ],
   "source": [
    "df2014=df.loc[df[\"year\"]==2014]\n",
    "df_open_2014=df[\"Open\"]\n",
    "average_2014=df2014['Adj Close'].mean()\n",
    "average_2014"
   ]
  },
  {
   "cell_type": "code",
   "execution_count": 28,
   "id": "d80ccf86",
   "metadata": {},
   "outputs": [
    {
     "data": {
      "text/plain": [
       "230.04289767063514"
      ]
     },
     "execution_count": 28,
     "metadata": {},
     "output_type": "execute_result"
    }
   ],
   "source": [
    "df2015=df.loc[df[\"year\"]==2015]\n",
    "df_open_2015=df[\"Open\"]\n",
    "average_2015=df2015['Adj Close'].mean()\n",
    "average_2015"
   ]
  },
  {
   "cell_type": "code",
   "execution_count": 29,
   "id": "a0000c61",
   "metadata": {},
   "outputs": [
    {
     "data": {
      "text/plain": [
       "209.7672616309524"
      ]
     },
     "execution_count": 29,
     "metadata": {},
     "output_type": "execute_result"
    }
   ],
   "source": [
    "df2016=df.loc[df[\"year\"]==2016]\n",
    "df_open_2016=df[\"Open\"]\n",
    "average_2016=df2016['Adj Close'].mean()\n",
    "average_2016"
   ]
  },
  {
   "cell_type": "code",
   "execution_count": 30,
   "id": "569ccc93",
   "metadata": {},
   "outputs": [
    {
     "data": {
      "text/plain": [
       "251.3019242115384"
      ]
     },
     "execution_count": 30,
     "metadata": {},
     "output_type": "execute_result"
    }
   ],
   "source": [
    "df2017=df.loc[df[\"year\"]==2017]\n",
    "df_open_2017=df[\"Open\"]\n",
    "average_2017=df2017['Adj Close'].mean()\n",
    "average_2017"
   ]
  },
  {
   "cell_type": "code",
   "execution_count": 31,
   "id": "ca76dfca",
   "metadata": {},
   "outputs": [
    {
     "data": {
      "text/html": [
       "<div>\n",
       "<style scoped>\n",
       "    .dataframe tbody tr th:only-of-type {\n",
       "        vertical-align: middle;\n",
       "    }\n",
       "\n",
       "    .dataframe tbody tr th {\n",
       "        vertical-align: top;\n",
       "    }\n",
       "\n",
       "    .dataframe thead th {\n",
       "        text-align: right;\n",
       "    }\n",
       "</style>\n",
       "<table border=\"1\" class=\"dataframe\">\n",
       "  <thead>\n",
       "    <tr style=\"text-align: right;\">\n",
       "      <th></th>\n",
       "      <th>year</th>\n",
       "      <th>average</th>\n",
       "    </tr>\n",
       "  </thead>\n",
       "  <tbody>\n",
       "    <tr>\n",
       "      <th>0</th>\n",
       "      <td>2010</td>\n",
       "      <td>23.341846</td>\n",
       "    </tr>\n",
       "    <tr>\n",
       "      <th>1</th>\n",
       "      <td>2011</td>\n",
       "      <td>26.804762</td>\n",
       "    </tr>\n",
       "    <tr>\n",
       "      <th>2</th>\n",
       "      <td>2012</td>\n",
       "      <td>31.168600</td>\n",
       "    </tr>\n",
       "    <tr>\n",
       "      <th>3</th>\n",
       "      <td>2013</td>\n",
       "      <td>104.401230</td>\n",
       "    </tr>\n",
       "    <tr>\n",
       "      <th>4</th>\n",
       "      <td>2014</td>\n",
       "      <td>223.329088</td>\n",
       "    </tr>\n",
       "    <tr>\n",
       "      <th>5</th>\n",
       "      <td>2015</td>\n",
       "      <td>230.042898</td>\n",
       "    </tr>\n",
       "    <tr>\n",
       "      <th>6</th>\n",
       "      <td>2016</td>\n",
       "      <td>209.767262</td>\n",
       "    </tr>\n",
       "    <tr>\n",
       "      <th>7</th>\n",
       "      <td>2017</td>\n",
       "      <td>251.301924</td>\n",
       "    </tr>\n",
       "  </tbody>\n",
       "</table>\n",
       "</div>"
      ],
      "text/plain": [
       "   year     average\n",
       "0  2010   23.341846\n",
       "1  2011   26.804762\n",
       "2  2012   31.168600\n",
       "3  2013  104.401230\n",
       "4  2014  223.329088\n",
       "5  2015  230.042898\n",
       "6  2016  209.767262\n",
       "7  2017  251.301924"
      ]
     },
     "execution_count": 31,
     "metadata": {},
     "output_type": "execute_result"
    }
   ],
   "source": [
    "d={\"year\":[\"2010\",\"2011\",\"2012\",\"2013\",\"2014\",\"2015\",\"2016\",\"2017\"],\"average\":[average_2010,average_2011,average_2012,average_2013,average_2014,average_2015,average_2016,average_2017]}\n",
    "df1=pd.DataFrame(d)\n",
    "df1"
   ]
  },
  {
   "cell_type": "code",
   "execution_count": 32,
   "id": "d31a4623",
   "metadata": {},
   "outputs": [
    {
     "data": {
      "image/png": "[encoded data removed]",
      "text/plain": [
       "<Figure size 648x576 with 1 Axes>"
      ]
     },
     "metadata": {
      "needs_background": "light"
     },
     "output_type": "display_data"
    }
   ],
   "source": [
    "df1= pd.DataFrame(df1, columns=[\"year\",\"average\"])\n",
    "df1.plot(x=\"year\", y=[\"average\"], kind=\"bar\", figsize=(9,8)) \n",
    "plt.show()"
   ]
  },
  {
   "cell_type": "markdown",
   "id": "c1df129b",
   "metadata": {},
   "source": [
    "### Q3 - What was the daily return of the stock on average?"
   ]
  },
  {
   "cell_type": "code",
   "execution_count": 33,
   "id": "9f9d92e9",
   "metadata": {},
   "outputs": [],
   "source": [
    "df1m=df.loc[df[\"month\"]==1]"
   ]
  },
  {
   "cell_type": "code",
   "execution_count": 34,
   "id": "bdddae16",
   "metadata": {},
   "outputs": [
    {
     "data": {
      "text/html": [
       "<div>\n",
       "<style scoped>\n",
       "    .dataframe tbody tr th:only-of-type {\n",
       "        vertical-align: middle;\n",
       "    }\n",
       "\n",
       "    .dataframe tbody tr th {\n",
       "        vertical-align: top;\n",
       "    }\n",
       "\n",
       "    .dataframe thead th {\n",
       "        text-align: right;\n",
       "    }\n",
       "</style>\n",
       "<table border=\"1\" class=\"dataframe\">\n",
       "  <thead>\n",
       "    <tr style=\"text-align: right;\">\n",
       "      <th></th>\n",
       "      <th>Date</th>\n",
       "      <th>Open</th>\n",
       "      <th>High</th>\n",
       "      <th>Low</th>\n",
       "      <th>Close</th>\n",
       "      <th>Volume</th>\n",
       "      <th>Adj Close</th>\n",
       "      <th>year</th>\n",
       "      <th>month</th>\n",
       "      <th>day</th>\n",
       "    </tr>\n",
       "  </thead>\n",
       "  <tbody>\n",
       "    <tr>\n",
       "      <th>130</th>\n",
       "      <td>2011-01-03</td>\n",
       "      <td>26.840000</td>\n",
       "      <td>27.000000</td>\n",
       "      <td>25.900000</td>\n",
       "      <td>26.620001</td>\n",
       "      <td>1283000</td>\n",
       "      <td>26.620001</td>\n",
       "      <td>2011</td>\n",
       "      <td>1</td>\n",
       "      <td>3</td>\n",
       "    </tr>\n",
       "    <tr>\n",
       "      <th>131</th>\n",
       "      <td>2011-01-04</td>\n",
       "      <td>26.660000</td>\n",
       "      <td>26.950001</td>\n",
       "      <td>26.020000</td>\n",
       "      <td>26.670000</td>\n",
       "      <td>1187400</td>\n",
       "      <td>26.670000</td>\n",
       "      <td>2011</td>\n",
       "      <td>1</td>\n",
       "      <td>4</td>\n",
       "    </tr>\n",
       "    <tr>\n",
       "      <th>132</th>\n",
       "      <td>2011-01-05</td>\n",
       "      <td>26.480000</td>\n",
       "      <td>26.900000</td>\n",
       "      <td>26.190001</td>\n",
       "      <td>26.830000</td>\n",
       "      <td>1446700</td>\n",
       "      <td>26.830000</td>\n",
       "      <td>2011</td>\n",
       "      <td>1</td>\n",
       "      <td>5</td>\n",
       "    </tr>\n",
       "    <tr>\n",
       "      <th>133</th>\n",
       "      <td>2011-01-06</td>\n",
       "      <td>26.830000</td>\n",
       "      <td>28.000000</td>\n",
       "      <td>26.809999</td>\n",
       "      <td>27.879999</td>\n",
       "      <td>2061200</td>\n",
       "      <td>27.879999</td>\n",
       "      <td>2011</td>\n",
       "      <td>1</td>\n",
       "      <td>6</td>\n",
       "    </tr>\n",
       "    <tr>\n",
       "      <th>134</th>\n",
       "      <td>2011-01-07</td>\n",
       "      <td>28.000000</td>\n",
       "      <td>28.580000</td>\n",
       "      <td>27.900000</td>\n",
       "      <td>28.240000</td>\n",
       "      <td>2247900</td>\n",
       "      <td>28.240000</td>\n",
       "      <td>2011</td>\n",
       "      <td>1</td>\n",
       "      <td>7</td>\n",
       "    </tr>\n",
       "    <tr>\n",
       "      <th>...</th>\n",
       "      <td>...</td>\n",
       "      <td>...</td>\n",
       "      <td>...</td>\n",
       "      <td>...</td>\n",
       "      <td>...</td>\n",
       "      <td>...</td>\n",
       "      <td>...</td>\n",
       "      <td>...</td>\n",
       "      <td>...</td>\n",
       "      <td>...</td>\n",
       "    </tr>\n",
       "    <tr>\n",
       "      <th>1655</th>\n",
       "      <td>2017-01-25</td>\n",
       "      <td>257.309998</td>\n",
       "      <td>258.459991</td>\n",
       "      <td>251.800003</td>\n",
       "      <td>254.470001</td>\n",
       "      <td>5142600</td>\n",
       "      <td>254.470001</td>\n",
       "      <td>2017</td>\n",
       "      <td>1</td>\n",
       "      <td>25</td>\n",
       "    </tr>\n",
       "    <tr>\n",
       "      <th>1656</th>\n",
       "      <td>2017-01-26</td>\n",
       "      <td>254.289993</td>\n",
       "      <td>255.740005</td>\n",
       "      <td>250.750000</td>\n",
       "      <td>252.509995</td>\n",
       "      <td>3152100</td>\n",
       "      <td>252.509995</td>\n",
       "      <td>2017</td>\n",
       "      <td>1</td>\n",
       "      <td>26</td>\n",
       "    </tr>\n",
       "    <tr>\n",
       "      <th>1657</th>\n",
       "      <td>2017-01-27</td>\n",
       "      <td>251.380005</td>\n",
       "      <td>253.000000</td>\n",
       "      <td>248.520004</td>\n",
       "      <td>252.949997</td>\n",
       "      <td>3166300</td>\n",
       "      <td>252.949997</td>\n",
       "      <td>2017</td>\n",
       "      <td>1</td>\n",
       "      <td>27</td>\n",
       "    </tr>\n",
       "    <tr>\n",
       "      <th>1658</th>\n",
       "      <td>2017-01-30</td>\n",
       "      <td>252.529999</td>\n",
       "      <td>255.289993</td>\n",
       "      <td>247.100006</td>\n",
       "      <td>250.630005</td>\n",
       "      <td>3801100</td>\n",
       "      <td>250.630005</td>\n",
       "      <td>2017</td>\n",
       "      <td>1</td>\n",
       "      <td>30</td>\n",
       "    </tr>\n",
       "    <tr>\n",
       "      <th>1659</th>\n",
       "      <td>2017-01-31</td>\n",
       "      <td>249.240005</td>\n",
       "      <td>255.889999</td>\n",
       "      <td>247.699997</td>\n",
       "      <td>251.929993</td>\n",
       "      <td>4116100</td>\n",
       "      <td>251.929993</td>\n",
       "      <td>2017</td>\n",
       "      <td>1</td>\n",
       "      <td>31</td>\n",
       "    </tr>\n",
       "  </tbody>\n",
       "</table>\n",
       "<p>141 rows × 10 columns</p>\n",
       "</div>"
      ],
      "text/plain": [
       "           Date        Open        High         Low       Close   Volume  \\\n",
       "130  2011-01-03   26.840000   27.000000   25.900000   26.620001  1283000   \n",
       "131  2011-01-04   26.660000   26.950001   26.020000   26.670000  1187400   \n",
       "132  2011-01-05   26.480000   26.900000   26.190001   26.830000  1446700   \n",
       "133  2011-01-06   26.830000   28.000000   26.809999   27.879999  2061200   \n",
       "134  2011-01-07   28.000000   28.580000   27.900000   28.240000  2247900   \n",
       "...         ...         ...         ...         ...         ...      ...   \n",
       "1655 2017-01-25  257.309998  258.459991  251.800003  254.470001  5142600   \n",
       "1656 2017-01-26  254.289993  255.740005  250.750000  252.509995  3152100   \n",
       "1657 2017-01-27  251.380005  253.000000  248.520004  252.949997  3166300   \n",
       "1658 2017-01-30  252.529999  255.289993  247.100006  250.630005  3801100   \n",
       "1659 2017-01-31  249.240005  255.889999  247.699997  251.929993  4116100   \n",
       "\n",
       "       Adj Close  year  month  day  \n",
       "130    26.620001  2011      1    3  \n",
       "131    26.670000  2011      1    4  \n",
       "132    26.830000  2011      1    5  \n",
       "133    27.879999  2011      1    6  \n",
       "134    28.240000  2011      1    7  \n",
       "...          ...   ...    ...  ...  \n",
       "1655  254.470001  2017      1   25  \n",
       "1656  252.509995  2017      1   26  \n",
       "1657  252.949997  2017      1   27  \n",
       "1658  250.630005  2017      1   30  \n",
       "1659  251.929993  2017      1   31  \n",
       "\n",
       "[141 rows x 10 columns]"
      ]
     },
     "execution_count": 34,
     "metadata": {},
     "output_type": "execute_result"
    }
   ],
   "source": [
    "df1m"
   ]
  },
  {
   "cell_type": "code",
   "execution_count": 35,
   "id": "820f1af4",
   "metadata": {},
   "outputs": [
    {
     "data": {
      "text/plain": [
       "127.55255284397164"
      ]
     },
     "execution_count": 35,
     "metadata": {},
     "output_type": "execute_result"
    }
   ],
   "source": [
    "df_adj_1=df[\"Adj Close\"]\n",
    "average_1=df1m[\"Adj Close\"].mean()\n",
    "average_1"
   ]
  },
  {
   "cell_type": "code",
   "execution_count": 36,
   "id": "7112c4e6",
   "metadata": {},
   "outputs": [
    {
     "data": {
      "text/html": [
       "<div>\n",
       "<style scoped>\n",
       "    .dataframe tbody tr th:only-of-type {\n",
       "        vertical-align: middle;\n",
       "    }\n",
       "\n",
       "    .dataframe tbody tr th {\n",
       "        vertical-align: top;\n",
       "    }\n",
       "\n",
       "    .dataframe thead th {\n",
       "        text-align: right;\n",
       "    }\n",
       "</style>\n",
       "<table border=\"1\" class=\"dataframe\">\n",
       "  <thead>\n",
       "    <tr style=\"text-align: right;\">\n",
       "      <th></th>\n",
       "      <th>Date</th>\n",
       "      <th>Open</th>\n",
       "      <th>High</th>\n",
       "      <th>Low</th>\n",
       "      <th>Close</th>\n",
       "      <th>Volume</th>\n",
       "      <th>Adj Close</th>\n",
       "      <th>year</th>\n",
       "      <th>month</th>\n",
       "      <th>day</th>\n",
       "    </tr>\n",
       "  </thead>\n",
       "  <tbody>\n",
       "    <tr>\n",
       "      <th>150</th>\n",
       "      <td>2011-02-01</td>\n",
       "      <td>24.309999</td>\n",
       "      <td>24.730000</td>\n",
       "      <td>23.540001</td>\n",
       "      <td>23.910000</td>\n",
       "      <td>707800</td>\n",
       "      <td>23.910000</td>\n",
       "      <td>2011</td>\n",
       "      <td>2</td>\n",
       "      <td>1</td>\n",
       "    </tr>\n",
       "    <tr>\n",
       "      <th>151</th>\n",
       "      <td>2011-02-02</td>\n",
       "      <td>24.160000</td>\n",
       "      <td>24.180000</td>\n",
       "      <td>23.670000</td>\n",
       "      <td>23.940001</td>\n",
       "      <td>569500</td>\n",
       "      <td>23.940001</td>\n",
       "      <td>2011</td>\n",
       "      <td>2</td>\n",
       "      <td>2</td>\n",
       "    </tr>\n",
       "    <tr>\n",
       "      <th>152</th>\n",
       "      <td>2011-02-03</td>\n",
       "      <td>23.820000</td>\n",
       "      <td>23.900000</td>\n",
       "      <td>23.150000</td>\n",
       "      <td>23.629999</td>\n",
       "      <td>512000</td>\n",
       "      <td>23.629999</td>\n",
       "      <td>2011</td>\n",
       "      <td>2</td>\n",
       "      <td>3</td>\n",
       "    </tr>\n",
       "    <tr>\n",
       "      <th>153</th>\n",
       "      <td>2011-02-04</td>\n",
       "      <td>23.440001</td>\n",
       "      <td>23.670000</td>\n",
       "      <td>23.219999</td>\n",
       "      <td>23.459999</td>\n",
       "      <td>544000</td>\n",
       "      <td>23.459999</td>\n",
       "      <td>2011</td>\n",
       "      <td>2</td>\n",
       "      <td>4</td>\n",
       "    </tr>\n",
       "    <tr>\n",
       "      <th>154</th>\n",
       "      <td>2011-02-07</td>\n",
       "      <td>23.260000</td>\n",
       "      <td>23.260000</td>\n",
       "      <td>22.879999</td>\n",
       "      <td>23.070000</td>\n",
       "      <td>895100</td>\n",
       "      <td>23.070000</td>\n",
       "      <td>2011</td>\n",
       "      <td>2</td>\n",
       "      <td>7</td>\n",
       "    </tr>\n",
       "    <tr>\n",
       "      <th>...</th>\n",
       "      <td>...</td>\n",
       "      <td>...</td>\n",
       "      <td>...</td>\n",
       "      <td>...</td>\n",
       "      <td>...</td>\n",
       "      <td>...</td>\n",
       "      <td>...</td>\n",
       "      <td>...</td>\n",
       "      <td>...</td>\n",
       "      <td>...</td>\n",
       "    </tr>\n",
       "    <tr>\n",
       "      <th>1674</th>\n",
       "      <td>2017-02-22</td>\n",
       "      <td>280.309998</td>\n",
       "      <td>283.450012</td>\n",
       "      <td>272.600006</td>\n",
       "      <td>273.510010</td>\n",
       "      <td>8081400</td>\n",
       "      <td>273.510010</td>\n",
       "      <td>2017</td>\n",
       "      <td>2</td>\n",
       "      <td>22</td>\n",
       "    </tr>\n",
       "    <tr>\n",
       "      <th>1675</th>\n",
       "      <td>2017-02-23</td>\n",
       "      <td>264.000000</td>\n",
       "      <td>264.660004</td>\n",
       "      <td>255.559998</td>\n",
       "      <td>255.990005</td>\n",
       "      <td>14867000</td>\n",
       "      <td>255.990005</td>\n",
       "      <td>2017</td>\n",
       "      <td>2</td>\n",
       "      <td>23</td>\n",
       "    </tr>\n",
       "    <tr>\n",
       "      <th>1676</th>\n",
       "      <td>2017-02-24</td>\n",
       "      <td>252.660004</td>\n",
       "      <td>258.250000</td>\n",
       "      <td>250.199997</td>\n",
       "      <td>257.000000</td>\n",
       "      <td>8160500</td>\n",
       "      <td>257.000000</td>\n",
       "      <td>2017</td>\n",
       "      <td>2</td>\n",
       "      <td>24</td>\n",
       "    </tr>\n",
       "    <tr>\n",
       "      <th>1677</th>\n",
       "      <td>2017-02-27</td>\n",
       "      <td>248.169998</td>\n",
       "      <td>248.360001</td>\n",
       "      <td>242.009995</td>\n",
       "      <td>246.229996</td>\n",
       "      <td>11432900</td>\n",
       "      <td>246.229996</td>\n",
       "      <td>2017</td>\n",
       "      <td>2</td>\n",
       "      <td>27</td>\n",
       "    </tr>\n",
       "    <tr>\n",
       "      <th>1678</th>\n",
       "      <td>2017-02-28</td>\n",
       "      <td>244.190002</td>\n",
       "      <td>251.000000</td>\n",
       "      <td>243.899994</td>\n",
       "      <td>249.990005</td>\n",
       "      <td>6065600</td>\n",
       "      <td>249.990005</td>\n",
       "      <td>2017</td>\n",
       "      <td>2</td>\n",
       "      <td>28</td>\n",
       "    </tr>\n",
       "  </tbody>\n",
       "</table>\n",
       "<p>135 rows × 10 columns</p>\n",
       "</div>"
      ],
      "text/plain": [
       "           Date        Open        High         Low       Close    Volume  \\\n",
       "150  2011-02-01   24.309999   24.730000   23.540001   23.910000    707800   \n",
       "151  2011-02-02   24.160000   24.180000   23.670000   23.940001    569500   \n",
       "152  2011-02-03   23.820000   23.900000   23.150000   23.629999    512000   \n",
       "153  2011-02-04   23.440001   23.670000   23.219999   23.459999    544000   \n",
       "154  2011-02-07   23.260000   23.260000   22.879999   23.070000    895100   \n",
       "...         ...         ...         ...         ...         ...       ...   \n",
       "1674 2017-02-22  280.309998  283.450012  272.600006  273.510010   8081400   \n",
       "1675 2017-02-23  264.000000  264.660004  255.559998  255.990005  14867000   \n",
       "1676 2017-02-24  252.660004  258.250000  250.199997  257.000000   8160500   \n",
       "1677 2017-02-27  248.169998  248.360001  242.009995  246.229996  11432900   \n",
       "1678 2017-02-28  244.190002  251.000000  243.899994  249.990005   6065600   \n",
       "\n",
       "       Adj Close  year  month  day  \n",
       "150    23.910000  2011      2    1  \n",
       "151    23.940001  2011      2    2  \n",
       "152    23.629999  2011      2    3  \n",
       "153    23.459999  2011      2    4  \n",
       "154    23.070000  2011      2    7  \n",
       "...          ...   ...    ...  ...  \n",
       "1674  273.510010  2017      2   22  \n",
       "1675  255.990005  2017      2   23  \n",
       "1676  257.000000  2017      2   24  \n",
       "1677  246.229996  2017      2   27  \n",
       "1678  249.990005  2017      2   28  \n",
       "\n",
       "[135 rows x 10 columns]"
      ]
     },
     "execution_count": 36,
     "metadata": {},
     "output_type": "execute_result"
    }
   ],
   "source": [
    "df2m=df.loc[df[\"month\"]==2]\n",
    "df2m"
   ]
  },
  {
   "cell_type": "code",
   "execution_count": 37,
   "id": "60f369a4",
   "metadata": {},
   "outputs": [
    {
     "data": {
      "text/plain": [
       "134.29392671111108"
      ]
     },
     "execution_count": 37,
     "metadata": {},
     "output_type": "execute_result"
    }
   ],
   "source": [
    "df_adj_2=df[\"Adj Close\"]\n",
    "average_2=df2m[\"Adj Close\"].mean()\n",
    "average_2"
   ]
  },
  {
   "cell_type": "code",
   "execution_count": 38,
   "id": "206d3f05",
   "metadata": {},
   "outputs": [
    {
     "data": {
      "text/plain": [
       "134.73678355944054"
      ]
     },
     "execution_count": 38,
     "metadata": {},
     "output_type": "execute_result"
    }
   ],
   "source": [
    "df3m=df.loc[df[\"month\"]==3]\n",
    "df3m\n",
    "df_adj_3=df[\"Adj Close\"]\n",
    "average_3=df3m[\"Adj Close\"].mean()\n",
    "average_3"
   ]
  },
  {
   "cell_type": "code",
   "execution_count": 39,
   "id": "97bfad48",
   "metadata": {},
   "outputs": [
    {
     "data": {
      "text/plain": [
       "130.387360304"
      ]
     },
     "execution_count": 39,
     "metadata": {},
     "output_type": "execute_result"
    }
   ],
   "source": [
    "df4m=df.loc[df[\"month\"]==4]\n",
    "df4m\n",
    "df_adj_4=df[\"Adj Close\"]\n",
    "average_4=df4m[\"Adj Close\"].mean()\n",
    "average_4"
   ]
  },
  {
   "cell_type": "code",
   "execution_count": 40,
   "id": "8bcc6607",
   "metadata": {},
   "outputs": [
    {
     "data": {
      "text/plain": [
       "130.98070854330706"
      ]
     },
     "execution_count": 40,
     "metadata": {},
     "output_type": "execute_result"
    }
   ],
   "source": [
    "df5m=df.loc[df[\"month\"]==5]\n",
    "df5m\n",
    "df_adj_5=df[\"Adj Close\"]\n",
    "average_5=df5m[\"Adj Close\"].mean()\n",
    "average_5"
   ]
  },
  {
   "cell_type": "code",
   "execution_count": 41,
   "id": "5558fdc4",
   "metadata": {},
   "outputs": [
    {
     "data": {
      "text/plain": [
       "140.82461580769228"
      ]
     },
     "execution_count": 41,
     "metadata": {},
     "output_type": "execute_result"
    }
   ],
   "source": [
    "df6m=df.loc[df[\"month\"]==6]\n",
    "df6m\n",
    "df_adj_6=df[\"Adj Close\"]\n",
    "average_6=df6m[\"Adj Close\"].mean()\n",
    "average_6"
   ]
  },
  {
   "cell_type": "code",
   "execution_count": 42,
   "id": "8b869c92",
   "metadata": {},
   "outputs": [
    {
     "data": {
      "text/plain": [
       "132.3275000135135"
      ]
     },
     "execution_count": 42,
     "metadata": {},
     "output_type": "execute_result"
    }
   ],
   "source": [
    "df7m=df.loc[df[\"month\"]==7]\n",
    "df7m\n",
    "df_adj_7=df[\"Adj Close\"]\n",
    "average_7=df7m[\"Adj Close\"].mean()\n",
    "average_7"
   ]
  },
  {
   "cell_type": "code",
   "execution_count": 43,
   "id": "a0aa1a7d",
   "metadata": {},
   "outputs": [
    {
     "data": {
      "text/plain": [
       "133.07006401935485"
      ]
     },
     "execution_count": 43,
     "metadata": {},
     "output_type": "execute_result"
    }
   ],
   "source": [
    "df8m=df.loc[df[\"month\"]==8]\n",
    "df8m\n",
    "df_adj_8=df[\"Adj Close\"]\n",
    "average_8=df8m[\"Adj Close\"].mean()\n",
    "average_8"
   ]
  },
  {
   "cell_type": "code",
   "execution_count": 44,
   "id": "b6bdb6c1",
   "metadata": {},
   "outputs": [
    {
     "data": {
      "text/plain": [
       "139.65361123611112"
      ]
     },
     "execution_count": 44,
     "metadata": {},
     "output_type": "execute_result"
    }
   ],
   "source": [
    "df9m=df.loc[df[\"month\"]==9]\n",
    "df9m\n",
    "df_adj_9=df[\"Adj Close\"]\n",
    "average_9=df9m[\"Adj Close\"].mean()\n",
    "average_9"
   ]
  },
  {
   "cell_type": "code",
   "execution_count": 45,
   "id": "6577afdf",
   "metadata": {},
   "outputs": [
    {
     "data": {
      "text/plain": [
       "133.22513186184216"
      ]
     },
     "execution_count": 45,
     "metadata": {},
     "output_type": "execute_result"
    }
   ],
   "source": [
    "df10m=df.loc[df[\"month\"]==10]\n",
    "df10m\n",
    "df_adj_10=df[\"Adj Close\"]\n",
    "average_10=df10m[\"Adj Close\"].mean()\n",
    "average_10"
   ]
  },
  {
   "cell_type": "code",
   "execution_count": 46,
   "id": "ff57c34d",
   "metadata": {},
   "outputs": [
    {
     "data": {
      "text/plain": [
       "124.26650355244757"
      ]
     },
     "execution_count": 46,
     "metadata": {},
     "output_type": "execute_result"
    }
   ],
   "source": [
    "df11m=df.loc[df[\"month\"]==11]\n",
    "df11m\n",
    "df_adj_11=df[\"Adj Close\"]\n",
    "average_11=df11m[\"Adj Close\"].mean()\n",
    "average_11"
   ]
  },
  {
   "cell_type": "code",
   "execution_count": 47,
   "id": "9ad34e5c",
   "metadata": {},
   "outputs": [
    {
     "data": {
      "text/plain": [
       "128.2308052348993"
      ]
     },
     "execution_count": 47,
     "metadata": {},
     "output_type": "execute_result"
    }
   ],
   "source": [
    "df12m=df.loc[df[\"month\"]==12]\n",
    "df12m\n",
    "df_adj_12=df[\"Adj Close\"]\n",
    "average_12=df12m[\"Adj Close\"].mean()\n",
    "average_12"
   ]
  },
  {
   "cell_type": "code",
   "execution_count": 48,
   "id": "c7607c33",
   "metadata": {},
   "outputs": [
    {
     "data": {
      "text/html": [
       "<div>\n",
       "<style scoped>\n",
       "    .dataframe tbody tr th:only-of-type {\n",
       "        vertical-align: middle;\n",
       "    }\n",
       "\n",
       "    .dataframe tbody tr th {\n",
       "        vertical-align: top;\n",
       "    }\n",
       "\n",
       "    .dataframe thead th {\n",
       "        text-align: right;\n",
       "    }\n",
       "</style>\n",
       "<table border=\"1\" class=\"dataframe\">\n",
       "  <thead>\n",
       "    <tr style=\"text-align: right;\">\n",
       "      <th></th>\n",
       "      <th>month</th>\n",
       "      <th>average</th>\n",
       "    </tr>\n",
       "  </thead>\n",
       "  <tbody>\n",
       "    <tr>\n",
       "      <th>0</th>\n",
       "      <td>1</td>\n",
       "      <td>127.552553</td>\n",
       "    </tr>\n",
       "    <tr>\n",
       "      <th>1</th>\n",
       "      <td>2</td>\n",
       "      <td>134.293927</td>\n",
       "    </tr>\n",
       "    <tr>\n",
       "      <th>2</th>\n",
       "      <td>3</td>\n",
       "      <td>134.736784</td>\n",
       "    </tr>\n",
       "    <tr>\n",
       "      <th>3</th>\n",
       "      <td>4</td>\n",
       "      <td>130.387360</td>\n",
       "    </tr>\n",
       "    <tr>\n",
       "      <th>4</th>\n",
       "      <td>5</td>\n",
       "      <td>130.980709</td>\n",
       "    </tr>\n",
       "    <tr>\n",
       "      <th>5</th>\n",
       "      <td>6</td>\n",
       "      <td>140.824616</td>\n",
       "    </tr>\n",
       "    <tr>\n",
       "      <th>6</th>\n",
       "      <td>7</td>\n",
       "      <td>132.327500</td>\n",
       "    </tr>\n",
       "    <tr>\n",
       "      <th>7</th>\n",
       "      <td>8</td>\n",
       "      <td>133.070064</td>\n",
       "    </tr>\n",
       "    <tr>\n",
       "      <th>8</th>\n",
       "      <td>9</td>\n",
       "      <td>139.653611</td>\n",
       "    </tr>\n",
       "    <tr>\n",
       "      <th>9</th>\n",
       "      <td>10</td>\n",
       "      <td>133.225132</td>\n",
       "    </tr>\n",
       "    <tr>\n",
       "      <th>10</th>\n",
       "      <td>11</td>\n",
       "      <td>124.266504</td>\n",
       "    </tr>\n",
       "    <tr>\n",
       "      <th>11</th>\n",
       "      <td>12</td>\n",
       "      <td>128.230805</td>\n",
       "    </tr>\n",
       "  </tbody>\n",
       "</table>\n",
       "</div>"
      ],
      "text/plain": [
       "   month     average\n",
       "0      1  127.552553\n",
       "1      2  134.293927\n",
       "2      3  134.736784\n",
       "3      4  130.387360\n",
       "4      5  130.980709\n",
       "5      6  140.824616\n",
       "6      7  132.327500\n",
       "7      8  133.070064\n",
       "8      9  139.653611\n",
       "9     10  133.225132\n",
       "10    11  124.266504\n",
       "11    12  128.230805"
      ]
     },
     "execution_count": 48,
     "metadata": {},
     "output_type": "execute_result"
    }
   ],
   "source": [
    "m={\"month\":[\"1\",\"2\",\"3\",\"4\",\"5\",\"6\",\"7\",\"8\",\"9\",\"10\",\"11\",\"12\"],\"average\":[average_1,average_2,average_3,average_4,average_5,average_6,average_7,average_8,average_9,average_10,average_11,average_12]}\n",
    "dfmonths=pd.DataFrame(m)\n",
    "dfmonths\n"
   ]
  },
  {
   "cell_type": "markdown",
   "id": "1422c566",
   "metadata": {},
   "source": [
    "### Q4 - What was the correlation between highest and lowest price reached in the day?"
   ]
  },
  {
   "cell_type": "code",
   "execution_count": 49,
   "id": "6bb24152",
   "metadata": {},
   "outputs": [
    {
     "data": {
      "text/plain": [
       "array([[1.        , 0.99952145],\n",
       "       [0.99952145, 1.        ]])"
      ]
     },
     "execution_count": 49,
     "metadata": {},
     "output_type": "execute_result"
    }
   ],
   "source": [
    "#Correlation between highest and lowest price reached in the day\n",
    "x = df['High']\n",
    "y = df['Low']\n",
    "corrH_L = np.corrcoef(x, y)\n",
    "corrH_L"
   ]
  },
  {
   "cell_type": "code",
   "execution_count": 50,
   "id": "2fd6731c",
   "metadata": {},
   "outputs": [
    {
     "data": {
      "text/plain": [
       "Text(0.5, 1.0, 'correlation between highest and lowest price in the day')"
      ]
     },
     "execution_count": 50,
     "metadata": {},
     "output_type": "execute_result"
    },
    {
     "data": {
      "image/png": "[encoded data removed]",
      "text/plain": [
       "<Figure size 432x288 with 1 Axes>"
      ]
     },
     "metadata": {
      "needs_background": "light"
     },
     "output_type": "display_data"
    }
   ],
   "source": [
    "#plotting the correlation using a scatterplot\n",
    "plt.scatter(x,y, s=200)\n",
    "\n",
    "plt.xlabel('High', fontsize=20)\n",
    "\n",
    "plt.ylabel('Low', fontsize=20)\n",
    "\n",
    "plt.title('correlation between highest and lowest price in the day', fontsize=25)"
   ]
  },
  {
   "cell_type": "markdown",
   "id": "0f7823fc",
   "metadata": {},
   "source": [
    "### Q5 - What was the correlation between price of stock at open market and close market ?"
   ]
  },
  {
   "cell_type": "code",
   "execution_count": 51,
   "id": "a38a04d9",
   "metadata": {},
   "outputs": [
    {
     "data": {
      "text/plain": [
       "array([[1.        , 0.99952145],\n",
       "       [0.99952145, 1.        ]])"
      ]
     },
     "execution_count": 51,
     "metadata": {},
     "output_type": "execute_result"
    }
   ],
   "source": [
    "#Correlation between price of stock at open and close market\n",
    "w = df['Open']\n",
    "z = df['Close']\n",
    "corrO_C = np.corrcoef(x, y)\n",
    "corrO_C"
   ]
  },
  {
   "cell_type": "code",
   "execution_count": 52,
   "id": "d9a2e302",
   "metadata": {},
   "outputs": [
    {
     "name": "stderr",
     "output_type": "stream",
     "text": [
      "/home/ammar/anaconda3/lib/python3.8/site-packages/seaborn/_decorators.py:36: FutureWarning: Pass the following variables as keyword args: x, y. From version 0.12, the only valid positional argument will be `data`, and passing other arguments without an explicit keyword will result in an error or misinterpretation.\n",
      "  warnings.warn(\n"
     ]
    },
    {
     "data": {
      "text/plain": [
       "Text(0.5, 1.0, 'correlation between price of stock at open and close market')"
      ]
     },
     "execution_count": 52,
     "metadata": {},
     "output_type": "execute_result"
    },
    {
     "data": {
      "image/png": "[encoded data removed]",
      "text/plain": [
       "<Figure size 1296x432 with 1 Axes>"
      ]
     },
     "metadata": {
      "needs_background": "light"
     },
     "output_type": "display_data"
    }
   ],
   "source": [
    "plt.figure(figsize = [18, 6])\n",
    "\n",
    "plt.subplot(1, 2, 1)\n",
    "sb.regplot(x, y, x_jitter=0.04, scatter_kws={'alpha':0.1}, fit_reg=False)\n",
    "\n",
    "plt.xlabel('carat')\n",
    "plt.ylabel('depth');\n",
    "plt.title('correlation between price of stock at open and close market', fontsize=25)"
   ]
  },
  {
   "cell_type": "markdown",
   "id": "e51284e2",
   "metadata": {},
   "source": [
    "### Q6 - Predicting the closing price:"
   ]
  },
  {
   "cell_type": "code",
   "execution_count": 53,
   "id": "09bf30ed",
   "metadata": {},
   "outputs": [],
   "source": [
    "df = df['Close'].values\n",
    "df = df.reshape(-1, 1)"
   ]
  },
  {
   "cell_type": "code",
   "execution_count": 54,
   "id": "f74d005b",
   "metadata": {},
   "outputs": [],
   "source": [
    "dataset_train = np.array(df[:int(df.shape[0]*0.8)])\n",
    "dataset_test = np.array(df[int(df.shape[0]*0.8):])"
   ]
  },
  {
   "cell_type": "code",
   "execution_count": 55,
   "id": "342bc962",
   "metadata": {},
   "outputs": [],
   "source": [
    "scaler = MinMaxScaler(feature_range=(0,1))\n",
    "dataset_train = scaler.fit_transform(dataset_train)\n",
    "dataset_test = scaler.transform(dataset_test)"
   ]
  },
  {
   "cell_type": "code",
   "execution_count": 56,
   "id": "162fdce4",
   "metadata": {},
   "outputs": [],
   "source": [
    "def create_dataset(df):\n",
    "    x = []\n",
    "    y = []\n",
    "    for i in range(50, df.shape[0]):\n",
    "        x.append(df[i-50:i, 0])\n",
    "        y.append(df[i, 0])\n",
    "    x = np.array(x)\n",
    "    y = np.array(y)\n",
    "    return x,y"
   ]
  },
  {
   "cell_type": "code",
   "execution_count": 57,
   "id": "b90f2835",
   "metadata": {},
   "outputs": [],
   "source": [
    "x_train, y_train = create_dataset(dataset_train)\n",
    "x_test, y_test = create_dataset(dataset_test)"
   ]
  },
  {
   "cell_type": "code",
   "execution_count": 58,
   "id": "b31684ec",
   "metadata": {},
   "outputs": [],
   "source": [
    "x_train = np.reshape(x_train, (x_train.shape[0], x_train.shape[1], 1))\n",
    "x_test = np.reshape(x_test, (x_test.shape[0], x_test.shape[1], 1))"
   ]
  },
  {
   "cell_type": "code",
   "execution_count": 59,
   "id": "06910396",
   "metadata": {},
   "outputs": [],
   "source": [
    "model = Sequential()\n",
    "model.add(LSTM(units=96, return_sequences=True, input_shape=(x_train.shape[1], 1)))\n",
    "model.add(Dropout(0.2))\n",
    "model.add(LSTM(units=96,return_sequences=True))\n",
    "model.add(Dropout(0.2))\n",
    "model.add(LSTM(units=96,return_sequences=True))\n",
    "model.add(Dropout(0.2))\n",
    "model.add(LSTM(units=96))\n",
    "model.add(Dropout(0.2))\n",
    "model.add(Dense(units=1))"
   ]
  },
  {
   "cell_type": "code",
   "execution_count": 60,
   "id": "db93d598",
   "metadata": {},
   "outputs": [],
   "source": [
    "x_train = np.reshape(x_train, (x_train.shape[0], x_train.shape[1], 1))\n",
    "x_test = np.reshape(x_test, (x_test.shape[0], x_test.shape[1], 1))"
   ]
  },
  {
   "cell_type": "code",
   "execution_count": 61,
   "id": "0cdcb981",
   "metadata": {},
   "outputs": [],
   "source": [
    "model.compile(loss='mean_squared_error', optimizer='adam')"
   ]
  },
  {
   "cell_type": "code",
   "execution_count": 62,
   "id": "09f144bc",
   "metadata": {},
   "outputs": [
    {
     "name": "stdout",
     "output_type": "stream",
     "text": [
      "Epoch 1/50\n",
      "41/41 [==============================] - 9s 95ms/step - loss: 0.0166\n",
      "Epoch 2/50\n",
      "41/41 [==============================] - 4s 93ms/step - loss: 0.0038\n",
      "Epoch 3/50\n",
      "41/41 [==============================] - 4s 92ms/step - loss: 0.0041\n",
      "Epoch 4/50\n",
      "41/41 [==============================] - 4s 91ms/step - loss: 0.0039\n",
      "Epoch 5/50\n",
      "41/41 [==============================] - 4s 91ms/step - loss: 0.0034\n",
      "Epoch 6/50\n",
      "41/41 [==============================] - 4s 91ms/step - loss: 0.0032\n",
      "Epoch 7/50\n",
      "41/41 [==============================] - 5s 121ms/step - loss: 0.0029\n",
      "Epoch 8/50\n",
      "41/41 [==============================] - 5s 120ms/step - loss: 0.0033\n",
      "Epoch 9/50\n",
      "41/41 [==============================] - 5s 122ms/step - loss: 0.0028\n",
      "Epoch 10/50\n",
      "41/41 [==============================] - 5s 122ms/step - loss: 0.0025\n",
      "Epoch 11/50\n",
      "41/41 [==============================] - 5s 121ms/step - loss: 0.0031\n",
      "Epoch 12/50\n",
      "41/41 [==============================] - 5s 119ms/step - loss: 0.0025\n",
      "Epoch 13/50\n",
      "41/41 [==============================] - 5s 117ms/step - loss: 0.0024\n",
      "Epoch 14/50\n",
      "41/41 [==============================] - 5s 114ms/step - loss: 0.0031\n",
      "Epoch 15/50\n",
      "41/41 [==============================] - 5s 114ms/step - loss: 0.0029\n",
      "Epoch 16/50\n",
      "41/41 [==============================] - 5s 118ms/step - loss: 0.0023\n",
      "Epoch 17/50\n",
      "41/41 [==============================] - 5s 133ms/step - loss: 0.0024\n",
      "Epoch 18/50\n",
      "41/41 [==============================] - 5s 129ms/step - loss: 0.0025\n",
      "Epoch 19/50\n",
      "41/41 [==============================] - 6s 136ms/step - loss: 0.0023\n",
      "Epoch 20/50\n",
      "41/41 [==============================] - 5s 121ms/step - loss: 0.0029\n",
      "Epoch 21/50\n",
      "41/41 [==============================] - 5s 120ms/step - loss: 0.0024\n",
      "Epoch 22/50\n",
      "41/41 [==============================] - 5s 118ms/step - loss: 0.0018\n",
      "Epoch 23/50\n",
      "41/41 [==============================] - 5s 125ms/step - loss: 0.0024\n",
      "Epoch 24/50\n",
      "41/41 [==============================] - 5s 114ms/step - loss: 0.0022\n",
      "Epoch 25/50\n",
      "41/41 [==============================] - 5s 111ms/step - loss: 0.0021\n",
      "Epoch 26/50\n",
      "41/41 [==============================] - 5s 111ms/step - loss: 0.0021\n",
      "Epoch 27/50\n",
      "41/41 [==============================] - 5s 121ms/step - loss: 0.0017\n",
      "Epoch 28/50\n",
      "41/41 [==============================] - 5s 118ms/step - loss: 0.0020\n",
      "Epoch 29/50\n",
      "41/41 [==============================] - 5s 115ms/step - loss: 0.0021\n",
      "Epoch 30/50\n",
      "41/41 [==============================] - 5s 115ms/step - loss: 0.0017\n",
      "Epoch 31/50\n",
      "41/41 [==============================] - 5s 115ms/step - loss: 0.0018\n",
      "Epoch 32/50\n",
      "41/41 [==============================] - 5s 116ms/step - loss: 0.0020\n",
      "Epoch 33/50\n",
      "41/41 [==============================] - 5s 116ms/step - loss: 0.0018\n",
      "Epoch 34/50\n",
      "41/41 [==============================] - 5s 116ms/step - loss: 0.0017\n",
      "Epoch 35/50\n",
      "41/41 [==============================] - 5s 115ms/step - loss: 0.0020\n",
      "Epoch 36/50\n",
      "41/41 [==============================] - 5s 115ms/step - loss: 0.0024\n",
      "Epoch 37/50\n",
      "41/41 [==============================] - 5s 115ms/step - loss: 0.0021\n",
      "Epoch 38/50\n",
      "41/41 [==============================] - 5s 115ms/step - loss: 0.0019\n",
      "Epoch 39/50\n",
      "41/41 [==============================] - 5s 114ms/step - loss: 0.0018\n",
      "Epoch 40/50\n",
      "41/41 [==============================] - 5s 118ms/step - loss: 0.0016\n",
      "Epoch 41/50\n",
      "41/41 [==============================] - 5s 122ms/step - loss: 0.0021\n",
      "Epoch 42/50\n",
      "41/41 [==============================] - 5s 116ms/step - loss: 0.0017\n",
      "Epoch 43/50\n",
      "41/41 [==============================] - 5s 130ms/step - loss: 0.0016\n",
      "Epoch 44/50\n",
      "41/41 [==============================] - 5s 132ms/step - loss: 0.0019\n",
      "Epoch 45/50\n",
      "41/41 [==============================] - 5s 118ms/step - loss: 0.0017\n",
      "Epoch 46/50\n",
      "41/41 [==============================] - 5s 117ms/step - loss: 0.0016\n",
      "Epoch 47/50\n",
      "41/41 [==============================] - 5s 120ms/step - loss: 0.0017\n",
      "Epoch 48/50\n",
      "41/41 [==============================] - 5s 123ms/step - loss: 0.0019\n",
      "Epoch 49/50\n",
      "41/41 [==============================] - 5s 119ms/step - loss: 0.0018\n",
      "Epoch 50/50\n",
      "41/41 [==============================] - 5s 131ms/step - loss: 0.0015\n"
     ]
    }
   ],
   "source": [
    "model.fit(x_train, y_train, epochs=50, batch_size=32)\n",
    "model.save('stock_prediction.h5')"
   ]
  },
  {
   "cell_type": "code",
   "execution_count": 63,
   "id": "311e2c01",
   "metadata": {},
   "outputs": [],
   "source": [
    "model = load_model('stock_prediction.h5')"
   ]
  },
  {
   "cell_type": "code",
   "execution_count": 64,
   "id": "fc1af0ca",
   "metadata": {},
   "outputs": [],
   "source": [
    "predictions = model.predict(x_test)\n",
    "predictions = scaler.inverse_transform(predictions)\n",
    "y_test_scaled = scaler.inverse_transform(y_test.reshape(-1, 1))"
   ]
  },
  {
   "cell_type": "markdown",
   "id": "ee575edf",
   "metadata": {},
   "source": [
    "### Conclusion:\n",
    "#### As we can see in the below figure the values for actual (Close) and predicted (predictions) are very similar"
   ]
  },
  {
   "cell_type": "code",
   "execution_count": 65,
   "id": "190879b7",
   "metadata": {},
   "outputs": [
    {
     "data": {
      "text/plain": [
       "<matplotlib.legend.Legend at 0x7f42f42ad1c0>"
      ]
     },
     "execution_count": 65,
     "metadata": {},
     "output_type": "execute_result"
    },
    {
     "data": {
      "image/png": "[encoded data removed]",
      "text/plain": [
       "<Figure size 1152x576 with 1 Axes>"
      ]
     },
     "metadata": {
      "needs_background": "light"
     },
     "output_type": "display_data"
    }
   ],
   "source": [
    "fig, ax = plt.subplots(figsize=(16,8))\n",
    "ax.set_facecolor('#FFFFFF')\n",
    "ax.plot(y_test_scaled, color='green', label='Actual price')\n",
    "plt.plot(predictions, color='blue', label='Predicted price')\n",
    "plt.legend()"
   ]
  }
 ],
 "metadata": {
  "kernelspec": {
   "display_name": "Python 3",
   "language": "python",
   "name": "python3"
  },
  "language_info": {
   "codemirror_mode": {
    "name": "ipython",
    "version": 3
   },
   "file_extension": ".py",
   "mimetype": "text/x-python",
   "name": "python",
   "nbconvert_exporter": "python",
   "pygments_lexer": "ipython3",
   "version": "3.8.5"
  }
 },
 "nbformat": 4,
 "nbformat_minor": 5
}
